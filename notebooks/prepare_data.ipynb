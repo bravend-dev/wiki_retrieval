{
 "cells": [
  {
   "cell_type": "code",
   "execution_count": 3,
   "metadata": {},
   "outputs": [],
   "source": [
    "RAW_FILE = \"D:\\\\DungFolder\\\\workspace\\\\wiki_retrieval\\\\zac2022-data\\\\wikipedia_20220620_cleaned_v2.csv\"\n",
    "TOTAL_CHUNK = 1944407\n",
    "BM25_FILE = \"D:\\\\DungFolder\\\\workspace\\\\wiki_retrieval\\\\bm25\\\\collections\\\\wiki\\\\wiki.jsonl\"\n",
    "COLLECTION_FILE = \"D:\\\\DungFolder\\\\workspace\\\\wiki_retrieval\\\\notebooks\\\\wiki.db\""
   ]
  },
  {
   "cell_type": "code",
   "execution_count": null,
   "metadata": {},
   "outputs": [],
   "source": [
    "from datasets import load_dataset\n",
    "collection_dataset = load_dataset('csv', data_files=RAW_FILE, streaming=True)[\"train\"]"
   ]
  },
  {
   "cell_type": "code",
   "execution_count": 2,
   "metadata": {},
   "outputs": [],
   "source": [
    "import sqlite3\n",
    "\n",
    "class WikiDataset:\n",
    "    def __init__(self, db_path='wiki.db'):\n",
    "        self.conn = sqlite3.connect(db_path)\n",
    "        self.cursor = self.conn.cursor()\n",
    "        self._create_table()\n",
    "\n",
    "    def _create_table(self):\n",
    "        self.cursor.execute('''\n",
    "            CREATE TABLE IF NOT EXISTS wiki (\n",
    "                id INTEGER PRIMARY KEY AUTOINCREMENT,\n",
    "                title TEXT NOT NULL,\n",
    "                text TEXT NOT NULL\n",
    "            )\n",
    "        ''')\n",
    "        self.conn.commit()\n",
    "\n",
    "    def add_row(self, index, title, text):\n",
    "        self.cursor.execute('''\n",
    "            INSERT INTO wiki (id, title, text) VALUES (?, ?, ?)\n",
    "        ''', (index, title, text))\n",
    "        self.conn.commit()\n",
    "\n",
    "    def __getitem__(self, index):\n",
    "        self.cursor.execute('''\n",
    "            SELECT id, title, text FROM wiki WHERE id = ?\n",
    "        ''', (index,))\n",
    "        row = self.cursor.fetchone()\n",
    "        if row is None:\n",
    "            raise IndexError(\"Index out of range\")\n",
    "        return {'index': row[0], 'title': row[1], 'text': row[2]}\n",
    "\n",
    "    def __len__(self):\n",
    "        self.cursor.execute('SELECT COUNT(*) FROM wiki')\n",
    "        return self.cursor.fetchone()[0]\n",
    "\n",
    "    def close(self):\n",
    "        self.conn.close()\n",
    "\n",
    "wikidataset = WikiDataset(COLLECTION_FILE)"
   ]
  },
  {
   "cell_type": "code",
   "execution_count": 4,
   "metadata": {},
   "outputs": [
    {
     "name": "stderr",
     "output_type": "stream",
     "text": [
      "  0%|          | 1001/1944407 [00:03<1:38:40, 328.24it/s]\n"
     ]
    }
   ],
   "source": [
    "import jsonlines\n",
    "from tqdm import tqdm\n",
    "\n",
    "with jsonlines.open(BM25_FILE, mode=\"w\") as writer:\n",
    "    for index, item in enumerate(tqdm(collection_dataset, total=TOTAL_CHUNK)):\n",
    "        wikidataset.add_row(\n",
    "            index=index,\n",
    "            title=item[\"title\"],\n",
    "            text=item[\"text\"]\n",
    "        )\n",
    "        writer.write({\n",
    "            'id': index,\n",
    "            'contents': item['bm25_text']\n",
    "        })\n",
    "        if index > 1000:\n",
    "            break"
   ]
  }
 ],
 "metadata": {
  "kernelspec": {
   "display_name": "py10",
   "language": "python",
   "name": "python3"
  },
  "language_info": {
   "codemirror_mode": {
    "name": "ipython",
    "version": 3
   },
   "file_extension": ".py",
   "mimetype": "text/x-python",
   "name": "python",
   "nbconvert_exporter": "python",
   "pygments_lexer": "ipython3",
   "version": "3.10.16"
  }
 },
 "nbformat": 4,
 "nbformat_minor": 2
}
