{
 "cells": [
  {
   "cell_type": "code",
   "execution_count": 36,
   "metadata": {},
   "outputs": [
    {
     "name": "stdout",
     "output_type": "stream",
     "text": [
      "TRAIN 18108\n",
      "- label true 5738\n",
      "- label false 12370\n",
      "TEST 501\n"
     ]
    }
   ],
   "source": [
    "import json\n",
    "import os\n",
    "\n",
    "# mailong dataset\n",
    "MAILONG_DATA_DIR = '/home/uyen/workspace/nlp_project/repos/bert-vietnamese-question-answering/dataset'\n",
    "mailong_train_data = json.load(open(os.path.join(MAILONG_DATA_DIR, 'train_IR.json')))\n",
    "print('TRAIN', len(mailong_train_data))\n",
    "\n",
    "label_true = 0\n",
    "for item in mailong_train_data:\n",
    "    if item['label']:\n",
    "        label_true+=1\n",
    "label_false = len(mailong_train_data) - label_true\n",
    "\n",
    "print('- label true', label_true)\n",
    "print('- label false', label_false)\n",
    "\n",
    "mailong_test_data = json.load(open(os.path.join(MAILONG_DATA_DIR, 'test_IR.json')))\n",
    "print('TEST', len(mailong_test_data))"
   ]
  },
  {
   "cell_type": "code",
   "execution_count": 133,
   "metadata": {},
   "outputs": [
    {
     "data": {
      "text/plain": [
       "14225"
      ]
     },
     "execution_count": 133,
     "metadata": {},
     "output_type": "execute_result"
    }
   ],
   "source": [
    "5738+3498+4989"
   ]
  },
  {
   "cell_type": "code",
   "execution_count": 128,
   "metadata": {},
   "outputs": [
    {
     "data": {
      "text/plain": [
       "{'__id__': 'test_0400',\n",
       " 'question': 'Việt Nam là nước xuất khẩu gạo đứng thứ mấy thế giới',\n",
       " 'title': 'Lịch sử Việt Nam',\n",
       " 'paragraphs': [{'id': 'p1',\n",
       "   'text': 'Công cuộc đổi mới được phát hành toàn diện , từ một nước nhập khẩu và nhận viện trợ của nước ngoài thành nước xuất khẩu . Trước 1989 , Việt Nam nhập khẩu lương thực nhưng từ năm 1989 , Việt Nam bắt đầu xuất khẩu 1-1,5 triệu tấn gạo mỗi năm ; và tăng dần hàng năm : 4,5 triệu tấn ( năm 2004 ) , 4,9 triệu tấn ( năm 2005 ) , đứng thứ 2 thế giới về xuất khẩu gạo .'},\n",
       "  {'id': 'p2',\n",
       "   'text': 'Trước 1989 , Việt Nam nhập khẩu lương thực nhưng từ năm 1989 , Việt Nam bắt đầu xuất khẩu 1-1,5 triệu tấn gạo mỗi năm ; và tăng dần hàng năm : 4,5 triệu tấn ( năm 2004 ) , 4,9 triệu tấn ( năm 2005 ) , đứng thứ 2 thế giới về xuất khẩu gạo . Lạm phát giảm dần ( đến năm 1990 còn 67,4% ) và năm 2005 lạm phát chỉ còn 8,5% .'},\n",
       "  {'id': 'p3',\n",
       "   'text': 'Ngày 11 tháng 1 năm 2007 , Việt Nam chính thức trở thành thành viên thứ 150 của Tổ chức Thương mại Thế giới ( WTO ) sau 11 năm đàm phán . Vào ngày 16 tháng 10 năm 2007 , Việt Nam đã được bầu làm một trong các thành viên không thường trực của Hội đồng Bảo an Liên Hiệp Quốc nhiệm kỳ 2008 – 2009 .'},\n",
       "  {'id': 'p4',\n",
       "   'text': 'Ngày 31 tháng 12 năm 2015 , Việt Nam chính thức tham gia thành lập Cộng đồng Kinh tế ASEAN – ASEAN Economic Community , viết tắt AEC , gồm 10 quốc gia thành viên . AEC sẽ là cơ hội quý báu để Việt Nam đẩy mạnh xuất khẩu , thu hút đầu tư nước ngoài , nhanh chóng bắt nhịp với xu thế và trình độ phát triển kinh tế của khu vực và thế giới .'},\n",
       "  {'id': 'p5',\n",
       "   'text': 'AEC sẽ là cơ hội quý báu để Việt Nam đẩy mạnh xuất khẩu , thu hút đầu tư nước ngoài , nhanh chóng bắt nhịp với xu thế và trình độ phát triển kinh tế của khu vực và thế giới .'},\n",
       "  {'id': 'p6',\n",
       "   'text': 'Xếp hạng năng lực cạnh tranh quốc gia của Việt Nam do Diễn đàn Kinh tế Thế giới ( WEF ) công bố cho năm 2015 – 2016 , Việt Nam đứng rất thấp trong khu vực và chỉ đứng thứ 56 trên tổng số 144 nền kinh tế . Nền quản lý hành chính lạc hậu , nhiều thủ tục rườm rà gây ảnh hưởng tiêu cực nghiêm trọng đến năng lực cạnh tranh , chi phí về thời gian và tiền bạc của doanh nghiệp Việt Nam , đơn cử như việc các doanh nghiệp Việt Nam cần đến 872 giờ / năm để đóng thuế trong khi con số bình quân của dịch vụ đó ở các nước ASEAN-6 chỉ là 172 giờ / năm .'}]}"
      ]
     },
     "execution_count": 128,
     "metadata": {},
     "output_type": "execute_result"
    }
   ],
   "source": [
    "mailong_test_data[-102]"
   ]
  },
  {
   "cell_type": "code",
   "execution_count": null,
   "metadata": {},
   "outputs": [
    {
     "name": "stdout",
     "output_type": "stream",
     "text": [
      "TRAIN 20857\n",
      "- PARTIAL_ANNOTATION: 3498\n",
      "- FULL_ANNOTATION: 4989\n",
      "- FALSE_LONG_ANSWER: 12370\n"
     ]
    }
   ],
   "source": [
    "from collections import defaultdict\n",
    "import json\n",
    "import os\n",
    "# zac22\n",
    "ZAC_DATA_DIR = '/home/uyen/workspace/nlp_project/data/e2e_qa/e2eqa-train+public_test-v1'\n",
    "zac_data = json.load(open(os.path.join(ZAC_DATA_DIR, 'zac2022_train_merged_final.json')))\n",
    "print('TRAIN', len(zac_data['data']))\n",
    "\n",
    "categories = defaultdict(lambda: 0)\n",
    "for item in zac_data['data']:\n",
    "    categories[item['category']] += 1\n",
    "    # if item['category'] == 'FALSE_LONG_ANSWER':\n",
    "    #     print(item)\n",
    "    #     break\n",
    "\n",
    "for k, v in categories.items():\n",
    "    print(f'- {k}: {v}')\n",
    "\n"
   ]
  },
  {
   "cell_type": "code",
   "execution_count": 134,
   "metadata": {},
   "outputs": [
    {
     "data": {
      "text/plain": [
       "24740"
      ]
     },
     "execution_count": 134,
     "metadata": {},
     "output_type": "execute_result"
    }
   ],
   "source": [
    "12370 + 12370"
   ]
  },
  {
   "cell_type": "code",
   "execution_count": 123,
   "metadata": {},
   "outputs": [],
   "source": [
    "import jsonlines\n",
    "from tqdm import tqdm\n",
    "length_counter = defaultdict(lambda: 0)\n",
    "for item in mailong_test_data:\n",
    "    words = item['question'].split()\n",
    "    length_counter[len(words)]+=1\n",
    "# with jsonlines.open('/home/uyen/workspace/nlp_project/data/e2e_qa/wikipedia_20220620_cleaned.jsonl') as reader:\n",
    "#     for item in tqdm(reader, total=1273468):\n",
    "#         words = item['text'].split()\n",
    "#         length_counter[len(words)]+=1"
   ]
  },
  {
   "cell_type": "code",
   "execution_count": 124,
   "metadata": {},
   "outputs": [
    {
     "data": {
      "image/png": "[encoded data removed]",
      "text/plain": [
       "<Figure size 1000x500 with 1 Axes>"
      ]
     },
     "metadata": {},
     "output_type": "display_data"
    }
   ],
   "source": [
    "import matplotlib.pyplot as plt\n",
    "from collections import Counter\n",
    "\n",
    "# Chuyển sang dạng dict chuẩn\n",
    "length_counter = dict(length_counter)\n",
    "\n",
    "top_lengths = Counter(length_counter).most_common(len(length_counter))\n",
    "top_lenght = [k for k, v in top_lengths]\n",
    "top_sample = [v for k, v in top_lengths]\n",
    "\n",
    "plt.figure(figsize=(10, 5))\n",
    "plt.bar(top_lenght,top_sample)\n",
    "\n",
    "plt.xlabel(\"Độ dài (số từ)\")\n",
    "plt.ylabel(\"Số lượng samples\")\n",
    "\n",
    "plt.xticks(rotation=45)\n",
    "plt.grid(True)\n",
    "plt.tight_layout()\n",
    "plt.show()"
   ]
  },
  {
   "cell_type": "code",
   "execution_count": 132,
   "metadata": {},
   "outputs": [
    {
     "data": {
      "text/plain": [
       "9.604790419161677"
      ]
     },
     "execution_count": 132,
     "metadata": {},
     "output_type": "execute_result"
    }
   ],
   "source": [
    "\n",
    "x = [k*v for k, v in length_counter.items()]\n",
    "# max(x)\n",
    "# min(x)\n",
    "sum(x)/len(mailong_test_data)"
   ]
  },
  {
   "cell_type": "code",
   "execution_count": null,
   "metadata": {},
   "outputs": [],
   "source": []
  },
  {
   "cell_type": "code",
   "execution_count": null,
   "metadata": {},
   "outputs": [],
   "source": []
  }
 ],
 "metadata": {
  "kernelspec": {
   "display_name": "bm25_lib",
   "language": "python",
   "name": "python3"
  },
  "language_info": {
   "codemirror_mode": {
    "name": "ipython",
    "version": 3
   },
   "file_extension": ".py",
   "mimetype": "text/x-python",
   "name": "python",
   "nbconvert_exporter": "python",
   "pygments_lexer": "ipython3",
   "version": "3.10.16"
  }
 },
 "nbformat": 4,
 "nbformat_minor": 2
}
